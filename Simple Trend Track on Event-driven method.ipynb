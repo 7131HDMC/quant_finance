{
 "cells": [
  {
   "cell_type": "code",
   "execution_count": null,
   "id": "1580f448-952c-4b00-b1eb-274b4eb97e8a",
   "metadata": {},
   "outputs": [],
   "source": [
    "import numpy as np\n",
    "from sklearn.svm import SVC\n",
    "from sklearn.metrics import accuracy_score\n",
    "\n",
    "from blueshift.api import(\n",
    "                            symbol,\n",
    "                            order_target_percent,\n",
    "                            schedule_function,\n",
    "                            date_rules,\n",
    "                            time_rules,\n",
    "                            get_datetime\n",
    "                        )"
   ]
  },
  {
   "cell_type": "code",
   "execution_count": null,
   "id": "bc5d371d-1d31-4106-86ea-e6da073fb7f7",
   "metadata": {},
   "outputs": [],
   "source": [
    "def initialize(context):\n",
    "    # Define symbol\n",
    "    context.security = symbol('AMZN')\n",
    "\n",
    "    context.lookback = 200\n",
    "    context.split_percentage = 0.8\n",
    "    context.retrain_flag = True\n",
    "    context.X_train = None\n",
    "    context.X_test = None\n",
    "    context.y_train = None\n",
    "    context.y_test = None\n",
    "\n",
    "    context.svc_model = None\n",
    "\n",
    "    # Schedule the retrain_model function every month\n",
    "    schedule_function(\n",
    "        retrain_model,\n",
    "        date_rule=date_rules.month_start(),\n",
    "        time_rule=time_rules.market_open()\n",
    "    )\n",
    "\n",
    "    # Schedule the rebalance function to run daily at market close \n",
    "    schedule_function(\n",
    "        rebalance,\n",
    "        date_rule=date_rules.every_day(),\n",
    "        time_rule=time_rules.market_close(minutes=1)\n",
    "    )\n"
   ]
  },
  {
   "cell_type": "code",
   "execution_count": null,
   "id": "e630207d-8b42-4060-a5d3-cd6afb5b66e6",
   "metadata": {},
   "outputs": [],
   "source": [
    "def retrain_model(context, data):\n",
    "    \"\"\"\n",
    "        A function to retrain the  model. This function is called by\n",
    "        the schedule_function in the initialize function.\n",
    "    \"\"\"\n",
    "    context.retrain_flag = True\n"
   ]
  },
  {
   "cell_type": "code",
   "execution_count": null,
   "id": "09ceef53-4330-4db7-b8fc-f131a95f1be8",
   "metadata": {},
   "outputs": [],
   "source": [
    "\n",
    "def rebalance(context, data):\n",
    "    try:\n",
    "        Df = data.history(\n",
    "            context.security,\n",
    "            ['open', 'high', 'low', 'close', 'volume'],\n",
    "            context.lookback,\n",
    "            '1d')\n",
    "    except IndexError:\n",
    "        return\n",
    "\n",
    "    # Create predictor variables\n",
    "    Df['open-close'] = Df['open'] - Df['close']\n",
    "    Df['high-low'] = Df['high'] - Df['low']\n",
    "\n",
    "    Df = Df.dropna()\n",
    "\n",
    "    # Store all predictor variables in a variable X\n",
    "    X = Df[['open-close', 'high-low']]\n",
    "\n",
    "    if context.retrain_flag:\n",
    "        context.retrain_flag = False\n",
    "        # Create target variable\n",
    "        y = np.where(Df['close'].shift(-1) > Df['close'], 1, 0)\n",
    "\n",
    "        split = int(context.split_percentage*len(Df))\n",
    "\n",
    "        context.X_train = X[:split]\n",
    "        context.y_train = y[:split]\n",
    "        context.X_test = X[split:]\n",
    "        context.y_test = y[split:]\n",
    "        \n",
    "        # Support vector classifier\n",
    "        context.svc_model = SVC().fit(context.X_train, context.y_train)\n",
    "\n",
    "    accuracy_test = accuracy_score(context.y_test, context.svc_model.predict(context.X_test))\n",
    "\n",
    "    # Predicted Signal\n",
    "    predicted_signal = context.svc_model.predict(X)[-1]\n",
    "\n",
    "    print(\"{} Accuracy test: {}, Prediction: {}\".format(get_datetime(), accuracy_test, predicted_signal))\n",
    "\n",
    "     # Place the orders\n",
    "    if accuracy_test > 0.5:\n",
    "        if predicted_signal == 1:\n",
    "            order_target_percent(context.security, 1)\n",
    "        else:\n",
    "            order_target_percent(context.security, 0)\n",
    "    else:\n",
    "        order_target_percent(context.security, 0)"
   ]
  },
  {
   "cell_type": "code",
   "execution_count": null,
   "id": "fc25880c-3be0-4bd9-a5cc-96e253ebfe90",
   "metadata": {},
   "outputs": [],
   "source": [
    "# order_target_percent to buy somenthing from a given balance percentage"
   ]
  }
 ],
 "metadata": {
  "kernelspec": {
   "display_name": "bot",
   "language": "python",
   "name": "bot"
  },
  "language_info": {
   "codemirror_mode": {
    "name": "ipython",
    "version": 3
   },
   "file_extension": ".py",
   "mimetype": "text/x-python",
   "name": "python",
   "nbconvert_exporter": "python",
   "pygments_lexer": "ipython3",
   "version": "3.11.6"
  }
 },
 "nbformat": 4,
 "nbformat_minor": 5
}
