{
 "cells": [
  {
   "cell_type": "code",
   "execution_count": 19,
   "id": "79dcf2ee-a57d-4253-b538-8bcba078b7fd",
   "metadata": {},
   "outputs": [],
   "source": [
    "from sklearn.svm import SVC\n",
    "from sklearn.metrics import accuracy_score\n",
    "\n",
    "import yfinance as yf\n",
    "import pandas as pd\n",
    "import numpy as np\n",
    "\n",
    "import matplotlib.pyplot as plt\n"
   ]
  },
  {
   "cell_type": "code",
   "execution_count": 33,
   "id": "2efa132a-1c2d-479d-8e4f-c3185fb1ae8e",
   "metadata": {
    "scrolled": true
   },
   "outputs": [
    {
     "name": "stdout",
     "output_type": "stream",
     "text": [
      "[*********************100%%**********************]  1 of 1 completed\n"
     ]
    },
    {
     "data": {
      "text/html": [
       "<div>\n",
       "<style scoped>\n",
       "    .dataframe tbody tr th:only-of-type {\n",
       "        vertical-align: middle;\n",
       "    }\n",
       "\n",
       "    .dataframe tbody tr th {\n",
       "        vertical-align: top;\n",
       "    }\n",
       "\n",
       "    .dataframe thead th {\n",
       "        text-align: right;\n",
       "    }\n",
       "</style>\n",
       "<table border=\"1\" class=\"dataframe\">\n",
       "  <thead>\n",
       "    <tr style=\"text-align: right;\">\n",
       "      <th></th>\n",
       "      <th>Open</th>\n",
       "      <th>High</th>\n",
       "      <th>Low</th>\n",
       "      <th>Close</th>\n",
       "      <th>Adj Close</th>\n",
       "      <th>Volume</th>\n",
       "    </tr>\n",
       "    <tr>\n",
       "      <th>Date</th>\n",
       "      <th></th>\n",
       "      <th></th>\n",
       "      <th></th>\n",
       "      <th></th>\n",
       "      <th></th>\n",
       "      <th></th>\n",
       "    </tr>\n",
       "  </thead>\n",
       "  <tbody>\n",
       "    <tr>\n",
       "      <th>2017-02-17</th>\n",
       "      <td>233.949997</td>\n",
       "      <td>235.089996</td>\n",
       "      <td>233.929993</td>\n",
       "      <td>235.089996</td>\n",
       "      <td>209.403427</td>\n",
       "      <td>77204100</td>\n",
       "    </tr>\n",
       "    <tr>\n",
       "      <th>2017-02-21</th>\n",
       "      <td>235.520004</td>\n",
       "      <td>236.690002</td>\n",
       "      <td>235.509995</td>\n",
       "      <td>236.490005</td>\n",
       "      <td>210.650467</td>\n",
       "      <td>88946100</td>\n",
       "    </tr>\n",
       "    <tr>\n",
       "      <th>2017-02-22</th>\n",
       "      <td>236.020004</td>\n",
       "      <td>236.539993</td>\n",
       "      <td>235.830002</td>\n",
       "      <td>236.279999</td>\n",
       "      <td>210.463440</td>\n",
       "      <td>62115200</td>\n",
       "    </tr>\n",
       "    <tr>\n",
       "      <th>2017-02-23</th>\n",
       "      <td>236.880005</td>\n",
       "      <td>236.899994</td>\n",
       "      <td>235.559998</td>\n",
       "      <td>236.440002</td>\n",
       "      <td>210.605927</td>\n",
       "      <td>74615900</td>\n",
       "    </tr>\n",
       "    <tr>\n",
       "      <th>2017-02-24</th>\n",
       "      <td>235.460007</td>\n",
       "      <td>236.789993</td>\n",
       "      <td>235.410004</td>\n",
       "      <td>236.740005</td>\n",
       "      <td>210.873199</td>\n",
       "      <td>82381600</td>\n",
       "    </tr>\n",
       "  </tbody>\n",
       "</table>\n",
       "</div>"
      ],
      "text/plain": [
       "                  Open        High         Low       Close   Adj Close  \\\n",
       "Date                                                                     \n",
       "2017-02-17  233.949997  235.089996  233.929993  235.089996  209.403427   \n",
       "2017-02-21  235.520004  236.690002  235.509995  236.490005  210.650467   \n",
       "2017-02-22  236.020004  236.539993  235.830002  236.279999  210.463440   \n",
       "2017-02-23  236.880005  236.899994  235.559998  236.440002  210.605927   \n",
       "2017-02-24  235.460007  236.789993  235.410004  236.740005  210.873199   \n",
       "\n",
       "              Volume  \n",
       "Date                  \n",
       "2017-02-17  77204100  \n",
       "2017-02-21  88946100  \n",
       "2017-02-22  62115200  \n",
       "2017-02-23  74615900  \n",
       "2017-02-24  82381600  "
      ]
     },
     "execution_count": 33,
     "metadata": {},
     "output_type": "execute_result"
    }
   ],
   "source": [
    "data =yf.download(\"SPY\", start=\"2017-02-17\", end=\"2022-02-17\" )\n",
    "data.head()"
   ]
  },
  {
   "cell_type": "markdown",
   "id": "875bff5a-140f-4e40-85f7-fd70473baf2e",
   "metadata": {},
   "source": [
    "## Create prediction features from diff\n"
   ]
  },
  {
   "cell_type": "code",
   "execution_count": 34,
   "id": "6a531f12-b53c-46de-8601-dd8330cf25c2",
   "metadata": {
    "scrolled": true
   },
   "outputs": [],
   "source": [
    "data['Open-Close'] = data.Open - data.Close\n",
    "data['High-Low'] = data.High - data.Low"
   ]
  },
  {
   "cell_type": "code",
   "execution_count": 74,
   "id": "d728da61-cee6-4250-9aa9-757f36df38a4",
   "metadata": {
    "scrolled": true
   },
   "outputs": [],
   "source": [
    "def stochastic_oscillator(data, window_size):\n",
    "    high_max = data['High'].rolling(window=window_size).max()\n",
    "    low_min = data['Low'].rolling(window=window_size).min()\n",
    "    k = 100 * ((data['Close'] - low_min) / (high_max - low_min))\n",
    "    return k"
   ]
  },
  {
   "cell_type": "code",
   "execution_count": 76,
   "id": "e638717f-72ad-4b69-b46b-af465945b014",
   "metadata": {},
   "outputs": [
    {
     "name": "stderr",
     "output_type": "stream",
     "text": [
      "/tmp/ipykernel_22389/35297353.py:1: SettingWithCopyWarning: \n",
      "A value is trying to be set on a copy of a slice from a DataFrame.\n",
      "Try using .loc[row_indexer,col_indexer] = value instead\n",
      "\n",
      "See the caveats in the documentation: https://pandas.pydata.org/pandas-docs/stable/user_guide/indexing.html#returning-a-view-versus-a-copy\n",
      "  data['stc'] = stochastic_oscillator(data, 7)\n"
     ]
    },
    {
     "data": {
      "text/plain": [
       "Date\n",
       "2017-05-26          NaN\n",
       "2017-05-30          NaN\n",
       "2017-05-31          NaN\n",
       "2017-06-01          NaN\n",
       "2017-06-02          NaN\n",
       "                ...    \n",
       "2022-02-10    38.418597\n",
       "2022-02-11     8.025284\n",
       "2022-02-14    16.326492\n",
       "2022-02-15    47.737381\n",
       "2022-02-16    49.955659\n",
       "Name: stc, Length: 1191, dtype: float64"
      ]
     },
     "execution_count": 76,
     "metadata": {},
     "output_type": "execute_result"
    }
   ],
   "source": [
    "data['stc'] = stochastic_oscillator(data, 7)\n",
    "data['stc']"
   ]
  },
  {
   "cell_type": "code",
   "execution_count": 78,
   "id": "e2a4cf25-250f-4625-928a-b81faca7aeb5",
   "metadata": {},
   "outputs": [],
   "source": [
    "data = data.dropna()"
   ]
  },
  {
   "cell_type": "code",
   "execution_count": null,
   "id": "035bca98-5d15-4745-b6df-8f4fa2d88fe7",
   "metadata": {},
   "outputs": [],
   "source": []
  },
  {
   "cell_type": "code",
   "execution_count": 79,
   "id": "ad206079-a533-4e7d-95d5-1792732270eb",
   "metadata": {},
   "outputs": [
    {
     "data": {
      "text/html": [
       "<div>\n",
       "<style scoped>\n",
       "    .dataframe tbody tr th:only-of-type {\n",
       "        vertical-align: middle;\n",
       "    }\n",
       "\n",
       "    .dataframe tbody tr th {\n",
       "        vertical-align: top;\n",
       "    }\n",
       "\n",
       "    .dataframe thead th {\n",
       "        text-align: right;\n",
       "    }\n",
       "</style>\n",
       "<table border=\"1\" class=\"dataframe\">\n",
       "  <thead>\n",
       "    <tr style=\"text-align: right;\">\n",
       "      <th></th>\n",
       "      <th>Open-Close</th>\n",
       "      <th>High-Low</th>\n",
       "      <th>stc</th>\n",
       "    </tr>\n",
       "    <tr>\n",
       "      <th>Date</th>\n",
       "      <th></th>\n",
       "      <th></th>\n",
       "      <th></th>\n",
       "    </tr>\n",
       "  </thead>\n",
       "  <tbody>\n",
       "    <tr>\n",
       "      <th>2017-06-06</th>\n",
       "      <td>0.129990</td>\n",
       "      <td>0.860001</td>\n",
       "      <td>69.272309</td>\n",
       "    </tr>\n",
       "    <tr>\n",
       "      <th>2017-06-07</th>\n",
       "      <td>-0.059998</td>\n",
       "      <td>1.089996</td>\n",
       "      <td>81.401585</td>\n",
       "    </tr>\n",
       "    <tr>\n",
       "      <th>2017-06-08</th>\n",
       "      <td>-0.009995</td>\n",
       "      <td>1.160004</td>\n",
       "      <td>84.635949</td>\n",
       "    </tr>\n",
       "    <tr>\n",
       "      <th>2017-06-09</th>\n",
       "      <td>0.679993</td>\n",
       "      <td>3.059998</td>\n",
       "      <td>52.522458</td>\n",
       "    </tr>\n",
       "    <tr>\n",
       "      <th>2017-06-12</th>\n",
       "      <td>-0.229996</td>\n",
       "      <td>1.039993</td>\n",
       "      <td>46.078588</td>\n",
       "    </tr>\n",
       "  </tbody>\n",
       "</table>\n",
       "</div>"
      ],
      "text/plain": [
       "            Open-Close  High-Low        stc\n",
       "Date                                       \n",
       "2017-06-06    0.129990  0.860001  69.272309\n",
       "2017-06-07   -0.059998  1.089996  81.401585\n",
       "2017-06-08   -0.009995  1.160004  84.635949\n",
       "2017-06-09    0.679993  3.059998  52.522458\n",
       "2017-06-12   -0.229996  1.039993  46.078588"
      ]
     },
     "execution_count": 79,
     "metadata": {},
     "output_type": "execute_result"
    }
   ],
   "source": [
    "X = data[['Open-Close', 'High-Low', 'stc']]\n",
    "X.head()"
   ]
  },
  {
   "cell_type": "code",
   "execution_count": null,
   "id": "64f48eec-c2d1-4b2e-afed-7d48e3670f73",
   "metadata": {},
   "outputs": [],
   "source": []
  },
  {
   "cell_type": "markdown",
   "id": "ffe24464-d9c9-4a19-abc0-ea279638dad5",
   "metadata": {},
   "source": [
    "## Define a class label for prediction  -> Buy or not\n",
    "Given the features condition define if we should Buy or not. We will store 1 for a buy signal and 0 for a no position in y\n"
   ]
  },
  {
   "cell_type": "code",
   "execution_count": 82,
   "id": "09634bce-2c9a-4155-a776-e72f6f0a3949",
   "metadata": {},
   "outputs": [
    {
     "data": {
      "text/plain": [
       "array([ 0, -1, -1, ...,  1,  0,  0])"
      ]
     },
     "execution_count": 82,
     "metadata": {},
     "output_type": "execute_result"
    }
   ],
   "source": [
    "# Target variables\n",
    "y = np.where(data['stc'] < 20, 1, np.where(data['stc'] > 80, -1, 0))\n",
    "\n",
    "# Print y\n",
    "y"
   ]
  },
  {
   "cell_type": "code",
   "execution_count": null,
   "id": "21d033c8-cf33-4f63-9320-206cdec85e43",
   "metadata": {},
   "outputs": [],
   "source": []
  },
  {
   "cell_type": "markdown",
   "id": "5dd4fefb-8a62-4664-9ad5-e093b62f482d",
   "metadata": {},
   "source": [
    "## Split data "
   ]
  },
  {
   "cell_type": "code",
   "execution_count": 83,
   "id": "81630f6f-9aa4-4c90-90ce-8c8b5b471aab",
   "metadata": {},
   "outputs": [],
   "source": [
    "# Define the split percentage\n",
    "split_percentage = 0.8\n",
    "split = int(split_percentage*len(data))\n",
    "\n",
    "# Train data set\n",
    "X_train = X[:split]\n",
    "y_train = y[:split]\n",
    "\n",
    "# Test data set\n",
    "X_test = X[split:]\n",
    "y_test = y[split:]"
   ]
  },
  {
   "cell_type": "markdown",
   "id": "e304ea95-604e-40d9-a919-81bd7e010297",
   "metadata": {},
   "source": [
    "## SVC model"
   ]
  },
  {
   "cell_type": "code",
   "execution_count": 84,
   "id": "4d0fabcb-4742-45cc-aabb-2288e301d887",
   "metadata": {},
   "outputs": [],
   "source": [
    "cls = SVC().fit(X_train, y_train)"
   ]
  },
  {
   "cell_type": "code",
   "execution_count": 85,
   "id": "bf474f9b-3004-4bea-bd28-95844ae8d81d",
   "metadata": {},
   "outputs": [],
   "source": [
    "y_predict = cls.predict(X_test)"
   ]
  },
  {
   "cell_type": "code",
   "execution_count": 86,
   "id": "d0bdb142-e31a-41c3-a96b-cbae5415b2bc",
   "metadata": {
    "scrolled": true
   },
   "outputs": [
    {
     "name": "stdout",
     "output_type": "stream",
     "text": [
      "Accuracy: 100.00%\n"
     ]
    }
   ],
   "source": [
    "# train and test accuracy\n",
    "accuracy_test = accuracy_score(y_test, y_predict)\n",
    "\n",
    "print('Accuracy:{: .2f}%'.format(accuracy_test*100))"
   ]
  },
  {
   "cell_type": "markdown",
   "id": "5ee16f0d-8f0a-4d05-9a94-2742700a6aa6",
   "metadata": {},
   "source": [
    "## Test Cumulative returns"
   ]
  },
  {
   "cell_type": "code",
   "execution_count": 87,
   "id": "e2ee123d-ba0f-4a3a-ac87-859c9a6cf6e3",
   "metadata": {},
   "outputs": [
    {
     "name": "stderr",
     "output_type": "stream",
     "text": [
      "/tmp/ipykernel_22389/672259180.py:2: SettingWithCopyWarning: \n",
      "A value is trying to be set on a copy of a slice from a DataFrame.\n",
      "Try using .loc[row_indexer,col_indexer] = value instead\n",
      "\n",
      "See the caveats in the documentation: https://pandas.pydata.org/pandas-docs/stable/user_guide/indexing.html#returning-a-view-versus-a-copy\n",
      "  data['Predicted_Signal'] = cls.predict(X)\n",
      "/tmp/ipykernel_22389/672259180.py:5: SettingWithCopyWarning: \n",
      "A value is trying to be set on a copy of a slice from a DataFrame.\n",
      "Try using .loc[row_indexer,col_indexer] = value instead\n",
      "\n",
      "See the caveats in the documentation: https://pandas.pydata.org/pandas-docs/stable/user_guide/indexing.html#returning-a-view-versus-a-copy\n",
      "  data['Returns'] = data.Close.pct_change()\n",
      "/tmp/ipykernel_22389/672259180.py:8: SettingWithCopyWarning: \n",
      "A value is trying to be set on a copy of a slice from a DataFrame.\n",
      "Try using .loc[row_indexer,col_indexer] = value instead\n",
      "\n",
      "See the caveats in the documentation: https://pandas.pydata.org/pandas-docs/stable/user_guide/indexing.html#returning-a-view-versus-a-copy\n",
      "  data['Strategy_Returns'] = data.Returns * data.Predicted_Signal.shift(1)\n",
      "/tmp/ipykernel_22389/672259180.py:11: SettingWithCopyWarning: \n",
      "A value is trying to be set on a copy of a slice from a DataFrame.\n",
      "Try using .loc[row_indexer,col_indexer] = value instead\n",
      "\n",
      "See the caveats in the documentation: https://pandas.pydata.org/pandas-docs/stable/user_guide/indexing.html#returning-a-view-versus-a-copy\n",
      "  data['cumulative_returns'] = (data.Strategy_Returns.iloc[split:]+1).cumprod()\n"
     ]
    },
    {
     "data": {
      "image/png": "[encoded data removed]",
      "text/plain": [
       "<Figure size 1500x700 with 1 Axes>"
      ]
     },
     "metadata": {},
     "output_type": "display_data"
    }
   ],
   "source": [
    "# Predicted Signal\n",
    "data['Predicted_Signal'] = cls.predict(X)\n",
    "\n",
    "# Calculate daily returns\n",
    "data['Returns'] = data.Close.pct_change()\n",
    "\n",
    "# Calculate strategy returns\n",
    "data['Strategy_Returns'] = data.Returns * data.Predicted_Signal.shift(1)\n",
    "\n",
    "# Calculate geometric returns\n",
    "data['cumulative_returns'] = (data.Strategy_Returns.iloc[split:]+1).cumprod()\n",
    "\n",
    "# Set the title and axis labels\n",
    "plt.title(\"Cumulative Returns Plot\", fontsize=16)\n",
    "plt.ylabel(\"Cumulative Returns\")\n",
    "plt.xlabel(\"Date\")\n",
    "\n",
    "# Plot geometric returns\n",
    "data['cumulative_returns'].plot(figsize=(15, 7),color='g')\n",
    "\n",
    "plt.show()"
   ]
  }
 ],
 "metadata": {
  "kernelspec": {
   "display_name": "Python 3 (ipykernel)",
   "language": "python",
   "name": "python3"
  },
  "language_info": {
   "codemirror_mode": {
    "name": "ipython",
    "version": 3
   },
   "file_extension": ".py",
   "mimetype": "text/x-python",
   "name": "python",
   "nbconvert_exporter": "python",
   "pygments_lexer": "ipython3",
   "version": "3.11.6"
  }
 },
 "nbformat": 4,
 "nbformat_minor": 5
}
